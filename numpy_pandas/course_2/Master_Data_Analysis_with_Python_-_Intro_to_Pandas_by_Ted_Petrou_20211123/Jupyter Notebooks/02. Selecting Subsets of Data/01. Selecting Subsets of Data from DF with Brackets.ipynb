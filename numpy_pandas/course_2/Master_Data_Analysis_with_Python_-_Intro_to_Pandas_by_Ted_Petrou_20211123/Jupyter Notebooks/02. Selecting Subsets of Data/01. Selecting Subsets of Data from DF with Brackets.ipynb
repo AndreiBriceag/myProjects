{
 "cells": [
  {
   "cell_type": "markdown",
   "metadata": {},
   "source": [
    "# Selecting Subsets of Data from DataFrames with Just the Brackets\n",
    "\n",
    "One of the most common tasks during a data analysis involves selecting a subset of the dataset. In pandas, this means selecting particular rows and/or columns from a DataFrame or selecting values from a Series. Although subset selection sounds like an easy task, and is an easy task for many other data manipulation tools, it's actually quite complex with pandas.\n",
    "\n",
    "### Examples of selections of subsets of data\n",
    "\n",
    "The following images show different types of subset selection that are possible. The DataFrame on the left is the original with the selection highlighted. The DataFrame on the right is the result of the selection.\n",
    "\n",
    "### Selecting columns\n",
    "\n",
    "The most common subset selection involves selecting one or more columns of a DataFrame. In this example, we select the `color`, `age`, and `height` columns. \n",
    "\n",
    "![2]\n",
    "\n",
    "\n",
    "### Selecting rows\n",
    "\n",
    "Subsets of rows are a less frequent selection. In this example, we select the rows labeled `Aaron` and `Dean`.\n",
    "\n",
    "![3]\n",
    "\n",
    "### Simultaneous row and column selection\n",
    "\n",
    "The last type of subset selection involves selecting rows and columns simultaneously. In this example, we select the rows labeled `Aaron` and `Dean` along with the columns `color`, `age`, and `height`.\n",
    "\n",
    "![4]\n",
    "\n",
    "[1]: images/sample_df.png\n",
    "[2]: images/select_columns.png\n",
    "[3]: images/select_rows.png\n",
    "[4]: images/select_rows_columns.png"
   ]
  },
  {
   "cell_type": "markdown",
   "metadata": {},
   "source": [
    "## pandas dual references - by label and by integer location\n",
    "\n",
    "As previously mentioned, the index of each DataFrame provides a label to reference each individual row. Similarly, the column names provide a label to reference each column. What hasn't been mentioned, is that each row and column may be referenced by an integer as well. I call this **integer location**. The integer location begins at 0 for the first row and continues sequentially one integer at a time until the last row. The last row will have integer location `n - 1`, where `n` is the total number of rows in the DataFrame. \n",
    "\n",
    "Take a look above at our DataFrame one more time. The rows with labels `Aaron` and `Dean` can also be referenced by their respective integer locations 2 and 4. Similarly, the columns `color`, `age`, and `height` can be referenced by their integer locations 1, 3, and 4.\n",
    "\n",
    "The official pandas documentation refers to integer location as **position**. I don't particularly like this terminology as it's not as explicit as integer location. The key term here is the word **integer**.\n",
    "\n",
    "### What's the difference between indexing and selecting subsets of data?\n",
    "\n",
    "The documentation uses the term **indexing** frequently. This term is a shorter, more technical term that refers to **subset selection**. I prefer the term subset selection, as, again, it is more descriptive of what is actually happening. Indexing is also the term used in the official Python documentation (for selecting subsets of lists or strings for example).\n",
    "\n",
    "## The three indexers `[ ]`, `loc`, `iloc`\n",
    "\n",
    "pandas provides three **indexers** to select subsets of data. An indexer is a term for one of  `[ ]`, `loc`, or `iloc` and is what makes the subset selection. All the details on how to make selections with each of these indexers will be covered. Each indexer has different rules for how they work. All of our selections will look similar to the following, except they will have something placed within the brackets.\n",
    "\n",
    "```python\n",
    ">>> df[]\n",
    ">>> df.loc[]\n",
    ">>> df.iloc[]\n",
    "```\n",
    "\n",
    "### Terminology\n",
    "\n",
    "When the brackets are placed directly after the DataFrame variable name, the term **just the brackets** will be used to differentiate them from the brackets after `loc` and `iloc`.\n",
    "\n",
    "### Square brackets instead of parentheses\n",
    "\n",
    "One of the most common mistakes when using `loc` and `iloc` is to append parentheses to them, instead of square brackets. One of the main reasons this mistake is done is because `loc` and `iloc` appear to be methods and all methods are called with parentheses. Both `loc` and `iloc` are NOT methods, but are accessed in the same manner as methods through dot notation, which leads to the mistake.\n",
    "\n",
    "Few objects accessed through dot notation use brackets instead of parentheses. In Python, the brackets are a universal operator for selecting subsets of data regardless of the type of object. The brackets select subsets of lists, strings, and select a single value in a dictionary. numpy arrays use the brackets operator for subset selection. If you are doing subset selection, it's likely that you need brackets and not parentheses.\n",
    "\n",
    "## Begin with *just the brackets*\n",
    "\n",
    "As we saw in a previous chapter, just the brackets are used to select a single column as a Series. We place the column name inside the brackets to return the Series. Let's read in a simple, small DataFrame and select a single column from it. We use the `index_col` parameter to set the index to the first column (integer location 0) on read."
   ]
  },
  {
   "cell_type": "code",
   "execution_count": null,
   "metadata": {},
   "outputs": [],
   "source": [
    "import pandas as pd\n",
    "df = pd.read_csv('../data/sample_data.csv', index_col=0)\n",
    "df"
   ]
  },
  {
   "cell_type": "markdown",
   "metadata": {},
   "source": [
    "Append square brackets directly to the DataFrame variable name and then place the name of the column within those brackets. This selects a single column of data as a Series."
   ]
  },
  {
   "cell_type": "code",
   "execution_count": null,
   "metadata": {},
   "outputs": [],
   "source": [
    "df['color']"
   ]
  },
  {
   "cell_type": "markdown",
   "metadata": {},
   "source": [
    "## Select multiple columns with a list\n",
    "\n",
    "Select multiple columns by placing the column names in a list inside of just the brackets. Notice that a DataFrame and NOT a Series is returned."
   ]
  },
  {
   "cell_type": "code",
   "execution_count": null,
   "metadata": {},
   "outputs": [],
   "source": [
    "df[['color', 'age', 'score']]"
   ]
  },
  {
   "cell_type": "markdown",
   "metadata": {},
   "source": [
    "### You must use an inner set of brackets\n",
    "\n",
    "You might be tempted to do the following, which will NOT work. When selecting multiple columns, you must use a **list** to contain the names. Remember, that a list is defined by a set of square brackets, so the following raises an error."
   ]
  },
  {
   "cell_type": "code",
   "execution_count": null,
   "metadata": {},
   "outputs": [],
   "source": [
    "df['color', 'age', 'score']"
   ]
  },
  {
   "cell_type": "markdown",
   "metadata": {},
   "source": [
    "### The inner square brackets define a list, the outer square brackets do subset selection\n",
    "\n",
    "To help understand the double set of brackets, take a look at the following image. The inner set of brackets define a list of three items. The outer set of brackets mean something completely different. They inform the DataFrame to make a subset selection.\n",
    "\n",
    "![0]\n",
    "\n",
    "This difference is confusing because the exact same syntax, the brackets, have a different meaning depending on where they are used. When the brackets are appended directly to the right of a variable name, they translate as \"subset selection\". When the brackets appear apart from any variable, they translate as \"create a list\".\n",
    "\n",
    "[0]: images/list_vs_bracket_selection.png"
   ]
  },
  {
   "cell_type": "markdown",
   "metadata": {},
   "source": [
    "### Use two lines of code to select multiple columns\n",
    "\n",
    "To help clarify the process of making subset selection, I recommend using intermediate variables. In this instance, we assign the columns we would like to select to a list and then pass this list to the brackets."
   ]
  },
  {
   "cell_type": "code",
   "execution_count": null,
   "metadata": {},
   "outputs": [],
   "source": [
    "cols = ['color', 'age', 'score']\n",
    "df[cols]"
   ]
  },
  {
   "cell_type": "markdown",
   "metadata": {},
   "source": [
    "### Columns in any order\n",
    "\n",
    "The order of the column names in the list is important. The new DataFrame will have the columns in the order given from the list."
   ]
  },
  {
   "cell_type": "code",
   "execution_count": null,
   "metadata": {},
   "outputs": [],
   "source": [
    "cols = ['height', 'age']\n",
    "df[cols]"
   ]
  },
  {
   "cell_type": "markdown",
   "metadata": {},
   "source": [
    "## Summary of *just the brackets*\n",
    "\n",
    "The primary purpose of *just the brackets* is to select either one or more entire columns as either a Series or DataFrame. Providing it a single column returns a Series, while providing it a list of columns returns a DataFrame. In later chapters, we will see how to select rows using *just the brackets* by passing it a boolean Series."
   ]
  },
  {
   "cell_type": "markdown",
   "metadata": {},
   "source": [
    "## Exercises\n",
    "\n",
    "Read in the movie dataset by executing the cell below and use it for the following exercises."
   ]
  },
  {
   "cell_type": "code",
   "execution_count": null,
   "metadata": {},
   "outputs": [],
   "source": [
    "pd.set_option('display.max_columns', 50)\n",
    "movie = pd.read_csv('../data/movie.csv', index_col='title')\n",
    "movie.head(3)"
   ]
  },
  {
   "cell_type": "markdown",
   "metadata": {},
   "source": [
    "### Exercise 1\n",
    "\n",
    "<span  style=\"color:green; font-size:16px\">Select the column with the director's name as a Series</span>"
   ]
  },
  {
   "cell_type": "code",
   "execution_count": null,
   "metadata": {},
   "outputs": [],
   "source": []
  },
  {
   "cell_type": "markdown",
   "metadata": {},
   "source": [
    "### Exercise 2\n",
    "\n",
    "<span  style=\"color:green; font-size:16px\">Select the column with the director's name and number of Facebook likes.</span>"
   ]
  },
  {
   "cell_type": "code",
   "execution_count": null,
   "metadata": {},
   "outputs": [],
   "source": []
  },
  {
   "cell_type": "markdown",
   "metadata": {},
   "source": [
    "### Exercise 3\n",
    "\n",
    "<span  style=\"color:green; font-size:16px\">Select a single column as a DataFrame and not a Series</span>"
   ]
  },
  {
   "cell_type": "code",
   "execution_count": null,
   "metadata": {},
   "outputs": [],
   "source": []
  },
  {
   "cell_type": "markdown",
   "metadata": {},
   "source": [
    "### Exercise 4\n",
    "\n",
    "<span  style=\"color:green; font-size:16px\">Look in the data folder and read in another dataset. Select some columns from it.</span>"
   ]
  },
  {
   "cell_type": "code",
   "execution_count": null,
   "metadata": {},
   "outputs": [],
   "source": []
  }
 ],
 "metadata": {
  "kernelspec": {
   "display_name": "Python 3 (ipykernel)",
   "language": "python",
   "name": "python3"
  },
  "language_info": {
   "codemirror_mode": {
    "name": "ipython",
    "version": 3
   },
   "file_extension": ".py",
   "mimetype": "text/x-python",
   "name": "python",
   "nbconvert_exporter": "python",
   "pygments_lexer": "ipython3",
   "version": "3.12.1"
  },
  "varInspector": {
   "cols": {
    "lenName": 16,
    "lenType": 16,
    "lenVar": 40
   },
   "kernels_config": {
    "python": {
     "delete_cmd_postfix": "",
     "delete_cmd_prefix": "del ",
     "library": "var_list.py",
     "varRefreshCmd": "print(var_dic_list())"
    },
    "r": {
     "delete_cmd_postfix": ") ",
     "delete_cmd_prefix": "rm(",
     "library": "var_list.r",
     "varRefreshCmd": "cat(var_dic_list()) "
    }
   },
   "types_to_exclude": [
    "module",
    "function",
    "builtin_function_or_method",
    "instance",
    "_Feature"
   ],
   "window_display": false
  }
 },
 "nbformat": 4,
 "nbformat_minor": 2
}
