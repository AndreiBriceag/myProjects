{
 "cells": [
  {
   "cell_type": "markdown",
   "metadata": {},
   "source": [
    "# Five-Step Process for Data Exploration\n",
    "\n",
    "In this chapter, we discuss a simple process for exploring data in a Jupyter Notebook. This is the same process that I use when exploring data for the first time and should help you understand data better and write better, cleaner code.\n",
    "\n",
    "Major issues arise for beginners when too many lines of code are written in a single cell of a notebook. It's important to get feedback on every single line of code that you write and verify that it is, in fact, correct. Only once you have verified the result should you move on to the next line of code. To help increase your ability to do data exploration in Jupyter Notebooks, I recommend the following five-step process:\n",
    "\n",
    "1. Write and execute a single line of code to explore your data\n",
    "1. Verify that this line of code works by inspecting the output\n",
    "1. Assign the result to a variable\n",
    "1. Within the same cell, in a second line, output the head of the DataFrame or Series\n",
    "1. Continue to the next cell. Do not add more lines of code to the cell\n",
    "\n",
    "### Apply to every part of the analysis\n",
    "\n",
    "You can apply this five-step process to every part of your data analysis. Let's begin by reading in the movie dataset and applying the five-step process for setting the index of our DataFrame as the `title` column."
   ]
  },
  {
   "cell_type": "code",
   "execution_count": null,
   "metadata": {},
   "outputs": [],
   "source": [
    "import pandas as pd\n",
    "movie = pd.read_csv('../data/movie.csv')\n",
    "movie.head(3)"
   ]
  },
  {
   "cell_type": "markdown",
   "metadata": {},
   "source": [
    "### Step 1: Write and execute a single line of code to explore your data\n",
    "\n",
    "In this step, we call the `set_index` method to use the `title` column as the index."
   ]
  },
  {
   "cell_type": "code",
   "execution_count": null,
   "metadata": {
    "scrolled": false
   },
   "outputs": [],
   "source": [
    "movie.set_index('title').head(3)"
   ]
  },
  {
   "cell_type": "markdown",
   "metadata": {},
   "source": [
    "### Step 2: Verify that this line of code works by inspecting the output\n",
    "\n",
    "Looking above, the output appears to be correct. The `title` column is set as the index and is no longer a column.\n",
    "\n",
    "### Step 3: Assign the result to a variable\n",
    "\n",
    "You would normally do this step in the same cell, but for this demonstration, we will place it in the cell below. Here, we assign the above operation to new variable name `movie2`."
   ]
  },
  {
   "cell_type": "code",
   "execution_count": null,
   "metadata": {},
   "outputs": [],
   "source": [
    "movie2 = movie.set_index('title')"
   ]
  },
  {
   "cell_type": "markdown",
   "metadata": {},
   "source": [
    "### Step 4: Within the same cell, in a second line, output the head of the DataFrame or Series\n",
    "\n",
    "Again, all these steps would be combined in the same cell. Output the `head` of the DataFrame."
   ]
  },
  {
   "cell_type": "code",
   "execution_count": null,
   "metadata": {},
   "outputs": [],
   "source": [
    "movie2.head(3)"
   ]
  },
  {
   "cell_type": "markdown",
   "metadata": {},
   "source": [
    "### Step 5: Continue to the next cell. Do not add more lines of code to the cell\n",
    "\n",
    "It is tempting to do more analysis in a single cell. I advise against doing so when you are a beginner. By limiting your analysis to a single main line of code per cell, and outputting that result, you can easily trace your work from one step to the next. Most lines of code in a notebook apply some operation to the data. It is vital that you can see exactly what this operation is doing. If you put multiple lines of code in a single cell, you lose track of what is happening and can't easily determine the veracity of each operation.\n",
    "\n",
    "### All steps in one cell\n",
    "\n",
    "The five-step process was shown above one step at a time in different cells. When you actually explore data with this process, you complete it in a single cell."
   ]
  },
  {
   "cell_type": "code",
   "execution_count": null,
   "metadata": {},
   "outputs": [],
   "source": [
    "movie2 = movie.set_index('title')\n",
    "movie2.head(3)"
   ]
  },
  {
   "cell_type": "markdown",
   "metadata": {},
   "source": [
    "### More examples\n",
    "\n",
    "Let's see a more complex example of the five-step process. Let's find the `year` that has the longest average duration. This example will be completed with two rounds of the five-step process. First, we find the average duration for each year and then sort it. This example uses the `groupby` method which is covered in the **Grouping Data** part of the book. It's not important that you understand how `groupby` works here. The point is to show the five-step process for data exploration."
   ]
  },
  {
   "cell_type": "code",
   "execution_count": null,
   "metadata": {},
   "outputs": [],
   "source": [
    "avg_duration = movie.groupby('year').agg({'duration':'mean'})\n",
    "avg_duration.head(3)"
   ]
  },
  {
   "cell_type": "markdown",
   "metadata": {},
   "source": [
    "After grouping, we can sort from greatest to least. A second round of the five-step process is completed to get the following result:"
   ]
  },
  {
   "cell_type": "code",
   "execution_count": null,
   "metadata": {},
   "outputs": [],
   "source": [
    "top_years = avg_duration.sort_values('duration', ascending=False)\n",
    "top_years.head(3)"
   ]
  },
  {
   "cell_type": "markdown",
   "metadata": {},
   "source": [
    "While it is possible to complete this example in a single cell, I recommend executing only a single main line of code that explores the data.\n",
    "\n",
    "### No strict requirement for one line of code\n",
    "\n",
    "The above examples each had a single main line of code followed by outputting the head of the DataFrame. Often times there will be a few more simple lines of code that can be written in the same cell. You should not adhere strictly to writing a single line of code, but instead, think about keeping the amount of code written in a single cell to a minimum.\n",
    "\n",
    "For instance, the following cell selects a subset of the data with three lines of code. The first line is simple and creates a list of column names as strings. This is an instance where multiple lines of code are easily understood."
   ]
  },
  {
   "cell_type": "code",
   "execution_count": null,
   "metadata": {},
   "outputs": [],
   "source": [
    "cols = ['year', 'duration']\n",
    "movie3 = movie[cols]\n",
    "movie3.head(3)"
   ]
  },
  {
   "cell_type": "markdown",
   "metadata": {},
   "source": [
    "### When to assign the result to a variable\n",
    "\n",
    "Not all operations on our data need to be assigned to a variable. We might just be interested in seeing the results. But, for many operations, you will want to continue with the new transformed data. By assigning the result to a variable, you will have immediate access to the result.\n",
    "\n",
    "### When to create a new variable name\n",
    "\n",
    "During step 3 of the first example, the result of our new dataset was assigned to `movie2`. We could have reassigned the result back to `movie` and continued on with our analysis. When first exploring data, I recommend creating a new variable name for each major result. By doing so, you have preserved each step of your work and are able to inspect it at a later date. Creating new variables makes it much easier to find errors at different places in your analysis.\n",
    "\n",
    "### When to reuse variable names\n",
    "\n",
    "The downside to using new variable names is that each variable can hold a copy of the data and if your dataset is large, you might take up unnecessary amounts of memory slowing down the performance of your machine. By reassigning a result to the same variable name, you'll reduce memory used. \n",
    "\n",
    "Another time to reuse variable names is when you are confident that the analysis you have produced is correct and no longer needed to preserve all the previous results.\n",
    "\n",
    "### Continuously verifying results\n",
    "\n",
    "Regardless of how adept you become at doing data explorations, it is good practice to verify each line of code. Data science is difficult and it is easy to make mistakes. Data is also messy and it is good to be skeptical while proceeding through an analysis. Getting visual verification that each line of code produces the desired result is important. Doing this provides feedback to help you think about what avenues to explore next."
   ]
  }
 ],
 "metadata": {
  "kernelspec": {
   "display_name": "Python 3 (ipykernel)",
   "language": "python",
   "name": "python3"
  },
  "language_info": {
   "codemirror_mode": {
    "name": "ipython",
    "version": 3
   },
   "file_extension": ".py",
   "mimetype": "text/x-python",
   "name": "python",
   "nbconvert_exporter": "python",
   "pygments_lexer": "ipython3",
   "version": "3.8.11"
  },
  "varInspector": {
   "cols": {
    "lenName": 16,
    "lenType": 16,
    "lenVar": 40
   },
   "kernels_config": {
    "python": {
     "delete_cmd_postfix": "",
     "delete_cmd_prefix": "del ",
     "library": "var_list.py",
     "varRefreshCmd": "print(var_dic_list())"
    },
    "r": {
     "delete_cmd_postfix": ") ",
     "delete_cmd_prefix": "rm(",
     "library": "var_list.r",
     "varRefreshCmd": "cat(var_dic_list()) "
    }
   },
   "types_to_exclude": [
    "module",
    "function",
    "builtin_function_or_method",
    "instance",
    "_Feature"
   ],
   "window_display": false
  }
 },
 "nbformat": 4,
 "nbformat_minor": 2
}
